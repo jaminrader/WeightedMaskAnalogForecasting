{
 "cells": [
  {
   "attachments": {},
   "cell_type": "markdown",
   "metadata": {},
   "source": [
    "Explore the best hyperparameters from the tuning stage\n",
    "\n",
    "Rader et al. 2023"
   ]
  },
  {
   "cell_type": "code",
   "execution_count": 2,
   "metadata": {},
   "outputs": [],
   "source": [
    "import numpy as np\n",
    "import os\n",
    "import pickle\n",
    "import base_directories\n",
    "from tune_model import get_best_models\n",
    "import matplotlib.pyplot as plt\n",
    "import seaborn as sb\n",
    "\n",
    "dir_settings = base_directories.get_directories()"
   ]
  },
  {
   "attachments": {},
   "cell_type": "markdown",
   "metadata": {},
   "source": [
    "### Get the hyperparameters for the best models during the model tuning stage"
   ]
  },
  {
   "cell_type": "code",
   "execution_count": 58,
   "metadata": {},
   "outputs": [
    {
     "name": "stdout",
     "output_type": "stream",
     "text": [
      "{27: {'model_type': 'interp_model', 'presaved_data_filename': None, 'output_type': 'regression', 'feature_var': 'ts', 'target_var': 'ts', 'scenario': 'historical', 'feature_region_name': 'globe', 'target_region_name': 'north atlantic', 'smooth_len_input': 5, 'smooth_len_output': -5, 'lead_time': 1, 'extra_channel': None, 'maskout_landocean_input': 'land', 'maskout_landocean_output': 'land', 'standardize_bool': True, 'analog_members': '[0, 1, 2, 3, 4, 5, 6, 7, 8, 9, 10, 11, 12, 13, 14, 15, 16, 17, 18, 19, 20, 21, 22, 23, 24, 25, 26, 27, 28, 29, 30, 31, 32, 33, 34]', 'soi_train_members': '[35, 36, 37, 38, 39, 40, 41, 42, 43, 44, 45, 46, 47, 48, 49]', 'soi_val_members': '[50, 51, 52, 53, 54]', 'soi_test_members': '[55, 56, 57, 58, 59]', 'loss_f': 'mse', 'patience': 50, 'min_delta': 0.0005, 'rng_seed': 0, 'batch_size': 64, 'val_batch_size': 2500, 'max_epochs': 5000, 'prediction_model_nodes': '[2, 2, 2]', 'prediction_model_act': 'elu', 'mask_model_act': 'relu', 'mask_initial_value': 'ones', 'mask_l1': 0.0, 'mask_l2': 0.0, 'normalize_weights_bool': True, 'interp_learning_rate': 0.01, 'exp_name': 'exp500refinedtune_interp', 'results': {'val_loss': 0.6761681437492371, 'val_pred_range': 1.1868914365768433}}}\n"
     ]
    }
   ],
   "source": [
    "tuner_dict = get_best_models(\"exp500refinedtune_interp\", num_models=1)\n",
    "print(tuner_dict)"
   ]
  },
  {
   "attachments": {},
   "cell_type": "markdown",
   "metadata": {},
   "source": [
    "### Plot distribution of validation results from tuner"
   ]
  },
  {
   "cell_type": "code",
   "execution_count": 5,
   "metadata": {},
   "outputs": [
    {
     "name": "stderr",
     "output_type": "stream",
     "text": [
      "/Users/Jamin/miniforge3/envs/temp/lib/python3.9/site-packages/seaborn/distributions.py:2619: FutureWarning: `distplot` is a deprecated function and will be removed in a future version. Please adapt your code to use either `displot` (a figure-level function with similar flexibility) or `histplot` (an axes-level function for histograms).\n",
      "  warnings.warn(msg, FutureWarning)\n"
     ]
    },
    {
     "data": {
      "image/png": "[encoded data removed]",
      "text/plain": [
       "<Figure size 432x288 with 1 Axes>"
      ]
     },
     "metadata": {
      "needs_background": "light"
     },
     "output_type": "display_data"
    }
   ],
   "source": [
    "exp_name = \"exp300refinedtune_ann\"\n",
    "tuner_dict = get_best_models(exp_name, num_models=100)\n",
    "\n",
    "all_results = [tuner_dict[i][\"results\"][\"val_loss\"] for i in tuner_dict]\n",
    "\n",
    "sb.distplot(all_results)\n",
    "plt.title('Distribution of Validation Losses for ' + exp_name)\n",
    "plt.xlabel('Loss')\n",
    "plt.ylabel('Count')\n",
    "plt.savefig(dir_settings['figure_tuner_directory'] + 'tuning_loss_dist_' + exp_name + '.png')"
   ]
  },
  {
   "attachments": {},
   "cell_type": "markdown",
   "metadata": {},
   "source": [
    "### Refining the best parameters for better tuning"
   ]
  },
  {
   "cell_type": "code",
   "execution_count": 50,
   "metadata": {},
   "outputs": [
    {
     "name": "stdout",
     "output_type": "stream",
     "text": [
      "mask_l2:\n",
      "\n",
      "[0.]\n",
      "\n",
      "prediction_model_nodes:\n",
      "\n",
      "['[10, 10, 10]' '[100, 100]' '[100]' '[20, 20, 20]' '[50, 50, 50]'\n",
      " '[50, 50]' '[50]' '[5]']\n",
      "\n",
      "prediction_model_act:\n",
      "\n",
      "['elu' 'relu' 'tanh']\n",
      "\n",
      "interp_learning_rate:\n",
      "\n",
      "[0.0001 0.001  0.01  ]\n",
      "\n"
     ]
    }
   ],
   "source": [
    "exp_name = \"exp401basetune_interp\"\n",
    "tuner_dict = get_best_models(exp_name, num_models=10)\n",
    "\n",
    "if \"interp\" in exp_name:\n",
    "    varnames = [\"mask_l2\", \"prediction_model_nodes\", \"prediction_model_act\", \"interp_learning_rate\"]\n",
    "elif \"ann_analog\" in exp_name:\n",
    "    varnames = [\"ann_analog_input_l2\", \"ann_analog_model_nodes\", \"ann_analog_model_act\", \"ann_analog_learning_rate\"]\n",
    "elif \"ann\" in exp_name:\n",
    "    varnames = [\"ann_input_l2\", \"ann_model_nodes\", \"ann_model_act\", \"ann_learning_rate\"]\n",
    "\n",
    "for varname in varnames:\n",
    "    params = []\n",
    "    for i in tuner_dict:\n",
    "        params.append(tuner_dict[i][varname])\n",
    "    print(varname + \":\", end='\\n\\n')\n",
    "    print(np.unique(params), end = '\\n\\n')\n",
    "\n",
    "    #print(params, end='\\n\\n')\n"
   ]
  },
  {
   "cell_type": "code",
   "execution_count": null,
   "metadata": {},
   "outputs": [],
   "source": []
  },
  {
   "cell_type": "markdown",
   "metadata": {},
   "source": [
    "### Identify the best \"percentile_huber_d\" for the analog problem"
   ]
  },
  {
   "cell_type": "code",
   "execution_count": 19,
   "metadata": {},
   "outputs": [],
   "source": [
    "dir_settings = base_directories.get_directories()\n",
    "metrics_directory = dir_settings[\"metrics_directory\"]\n",
    "\n",
    "experiment_group = 'exp301mse'\n",
    "\n",
    "experiment_special = [experiment_group + ls for ls in ['-mae', '-mse']]\n",
    "experiment_list = [experiment_group + \"-huber\" + str(hub) for hub in range(15, 105, 5)] + experiment_special\n",
    "experiment_list = experiment_special\n",
    "\n",
    "model_type_list = (\n",
    "    \"interp_model\",\n",
    "    \"ann_model\",\n",
    "    \"ann_analog_model\"\n",
    ")\n",
    "\n",
    "all_metrics = {}\n",
    "\n",
    "for experiment in experiment_list:\n",
    "    for model_type in model_type_list:\n",
    "        for fn in os.listdir(metrics_directory):\n",
    "            if (\"subset\" in fn) and (experiment in fn) and (model_type in fn) and fn.endswith(\".pickle\"):\n",
    "                with open(metrics_directory + fn, \"rb\") as fp:\n",
    "                    if experiment not in experiment_special:\n",
    "                        huber = int(experiment.split('huber')[-1])\n",
    "                        all_metrics[fn] = dict()\n",
    "                        all_metrics[fn]['error'] = pickle.load(fp)['error_network'].mean(axis=1)\n",
    "                        all_metrics[fn]['experiment'] = experiment\n",
    "                        all_metrics[fn]['model_type'] = model_type\n",
    "                        all_metrics[fn]['huber'] = huber\n",
    "                    else:\n",
    "                        all_metrics[fn] = dict()\n",
    "                        all_metrics[fn]['error'] = pickle.load(fp)['error_network'].mean(axis=1)\n",
    "                        all_metrics[fn]['experiment'] = experiment\n",
    "                        all_metrics[fn]['model_type'] = model_type\n",
    "                        if 'mse' in fn.split('-')[1]:\n",
    "                            all_metrics[fn]['huber'] = 120\n",
    "                        else:\n",
    "                            all_metrics[fn]['huber'] = 140"
   ]
  },
  {
   "cell_type": "code",
   "execution_count": 20,
   "metadata": {},
   "outputs": [
    {
     "data": {
      "text/plain": [
       "([<matplotlib.axis.XTick at 0x2b2720a60>,\n",
       "  <matplotlib.axis.XTick at 0x2b2720a30>,\n",
       "  <matplotlib.axis.XTick at 0x2b2720910>,\n",
       "  <matplotlib.axis.XTick at 0x2b2758340>,\n",
       "  <matplotlib.axis.XTick at 0x2b2758a90>,\n",
       "  <matplotlib.axis.XTick at 0x2b275e220>],\n",
       " [Text(25, 0, '25'),\n",
       "  Text(50, 0, '50'),\n",
       "  Text(75, 0, '75'),\n",
       "  Text(100, 0, '100'),\n",
       "  Text(120, 0, 'MSE'),\n",
       "  Text(140, 0, 'MAE')])"
      ]
     },
     "execution_count": 20,
     "metadata": {},
     "output_type": "execute_result"
    },
    {
     "data": {
      "image/png": "[encoded data removed]",
      "text/plain": [
       "<Figure size 432x288 with 1 Axes>"
      ]
     },
     "metadata": {
      "needs_background": "light"
     },
     "output_type": "display_data"
    }
   ],
   "source": [
    "focus_on_model = \"interp_model\"\n",
    "\n",
    "hubers = []\n",
    "errors = []\n",
    "for key in all_metrics.keys():\n",
    "    if all_metrics[key]['model_type'] == focus_on_model:\n",
    "        hubers.append(all_metrics[key]['huber'])\n",
    "        errors.append(all_metrics[key]['error'])\n",
    "\n",
    "plt.plot(hubers, errors, 'o')\n",
    "plt.ylabel('Prediction Error')\n",
    "plt.xlabel('Huber Loss')\n",
    "plt.title(experiment_group + '   ' + focus_on_model)\n",
    "plt.xticks([25, 50, 75, 100, 120, 140], [25, 50, 75, 100, \"MSE\", \"MAE\"])\n",
    "#plt.savefig(dir_settings[\"figure_directory\"] + ,'huber_test/' + experiment_group + '_' + focus_on_model + '.png')\n",
    "    "
   ]
  },
  {
   "cell_type": "code",
   "execution_count": 26,
   "metadata": {},
   "outputs": [],
   "source": [
    "import numpy as np\n",
    "metrics = np.zeros((5,5))\n",
    "\n",
    "metrics[0,2] = 1"
   ]
  },
  {
   "cell_type": "code",
   "execution_count": 27,
   "metadata": {},
   "outputs": [
    {
     "data": {
      "text/plain": [
       "<AxesSubplot:>"
      ]
     },
     "execution_count": 27,
     "metadata": {},
     "output_type": "execute_result"
    },
    {
     "data": {
      "image/png": "[encoded data removed]",
      "text/plain": [
       "<Figure size 864x151.2 with 5 Axes>"
      ]
     },
     "metadata": {
      "needs_background": "light"
     },
     "output_type": "display_data"
    }
   ],
   "source": [
    "import seaborn as sb\n",
    "fig, axs = plt.subplots(1, 4, figsize=(12, 2.1))\n",
    "ax = axs[0]\n",
    "sb.heatmap(metrics, ax=ax)\n"
   ]
  },
  {
   "cell_type": "code",
   "execution_count": 31,
   "metadata": {},
   "outputs": [
    {
     "data": {
      "text/plain": [
       "array([0.  , 0.01, 0.1 , 1.1 , 2.33])"
      ]
     },
     "execution_count": 31,
     "metadata": {},
     "output_type": "execute_result"
    }
   ],
   "source": [
    "np.array([0.0001, 0.01, .1, 1.1, 2.33333]).round(2)"
   ]
  },
  {
   "cell_type": "code",
   "execution_count": null,
   "metadata": {},
   "outputs": [],
   "source": []
  }
 ],
 "metadata": {
  "kernelspec": {
   "display_name": "temp",
   "language": "python",
   "name": "python3"
  },
  "language_info": {
   "codemirror_mode": {
    "name": "ipython",
    "version": 3
   },
   "file_extension": ".py",
   "mimetype": "text/x-python",
   "name": "python",
   "nbconvert_exporter": "python",
   "pygments_lexer": "ipython3",
   "version": "3.9.12"
  },
  "orig_nbformat": 4,
  "vscode": {
   "interpreter": {
    "hash": "077f9de2ae6c96b973529eca1b9ed06ef1edc815a3832513fa5e5425102809d5"
   }
  }
 },
 "nbformat": 4,
 "nbformat_minor": 2
}
